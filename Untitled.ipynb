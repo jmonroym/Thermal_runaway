{
 "cells": [
  {
   "cell_type": "code",
   "execution_count": 3,
   "metadata": {},
   "outputs": [
    {
     "name": "stdout",
     "output_type": "stream",
     "text": [
      "Defaulting to user installation because normal site-packages is not writeable\n",
      "Collecting pyhf\n",
      "  Downloading pyhf-0.4.4-py2.py3-none-any.whl (107 kB)\n",
      "\u001b[K     |████████████████████████████████| 107 kB 2.2 MB/s eta 0:00:01\n",
      "\u001b[?25hCollecting click>=6.0\n",
      "  Downloading click-7.1.2-py2.py3-none-any.whl (82 kB)\n",
      "\u001b[K     |████████████████████████████████| 82 kB 3.3 MB/s  eta 0:00:01\n",
      "\u001b[?25hCollecting pyyaml\n",
      "  Downloading PyYAML-5.3.1.tar.gz (269 kB)\n",
      "\u001b[K     |████████████████████████████████| 269 kB 14.7 MB/s eta 0:00:01\n",
      "\u001b[?25hCollecting jsonschema>=3.2.0\n",
      "  Using cached jsonschema-3.2.0-py2.py3-none-any.whl (56 kB)\n",
      "Collecting tqdm\n",
      "  Downloading tqdm-4.48.0-py2.py3-none-any.whl (67 kB)\n",
      "\u001b[K     |████████████████████████████████| 67 kB 7.1 MB/s  eta 0:00:01\n",
      "\u001b[?25hCollecting jsonpatch\n",
      "  Downloading jsonpatch-1.26-py2.py3-none-any.whl (11 kB)\n",
      "Requirement already satisfied: scipy>=1.4.0 in /Users/jmonroy/Library/Python/3.7/lib/python/site-packages (from pyhf) (1.5.0)\n",
      "Requirement already satisfied: setuptools in /Library/Developer/CommandLineTools/Library/Frameworks/Python3.framework/Versions/3.7/lib/python3.7/site-packages (from jsonschema>=3.2.0->pyhf) (40.8.0)\n",
      "Requirement already satisfied: six>=1.11.0 in /Library/Developer/CommandLineTools/Library/Frameworks/Python3.framework/Versions/3.7/lib/python3.7/site-packages (from jsonschema>=3.2.0->pyhf) (1.12.0)\n",
      "Collecting attrs>=17.4.0\n",
      "  Using cached attrs-19.3.0-py2.py3-none-any.whl (39 kB)\n",
      "Processing /Users/jmonroy/Library/Caches/pip/wheels/22/52/11/f0920f95c23ed7d2d0b05f2b7b2f4509e87a20cfe8ea43d987/pyrsistent-0.16.0-cp37-cp37m-macosx_10_15_x86_64.whl\n",
      "Collecting importlib-metadata; python_version < \"3.8\"\n",
      "  Downloading importlib_metadata-1.7.0-py2.py3-none-any.whl (31 kB)\n",
      "Collecting jsonpointer>=1.9\n",
      "  Downloading jsonpointer-2.0-py2.py3-none-any.whl (7.6 kB)\n",
      "Requirement already satisfied: numpy>=1.14.5 in /Users/jmonroy/Library/Python/3.7/lib/python/site-packages (from scipy>=1.4.0->pyhf) (1.19.0)\n",
      "Collecting zipp>=0.5\n",
      "  Using cached zipp-3.1.0-py3-none-any.whl (4.9 kB)\n",
      "Building wheels for collected packages: pyyaml\n",
      "  Building wheel for pyyaml (setup.py) ... \u001b[?25ldone\n",
      "\u001b[?25h  Created wheel for pyyaml: filename=PyYAML-5.3.1-cp37-cp37m-macosx_10_14_x86_64.whl size=44627 sha256=85ae6728511c527d3cf5ed5780af8d0cb308b5f146e512aa4d0259ef510ca82c\n",
      "  Stored in directory: /Users/jmonroy/Library/Caches/pip/wheels/5e/03/1e/e1e954795d6f35dfc7b637fe2277bff021303bd9570ecea653\n",
      "Successfully built pyyaml\n",
      "Installing collected packages: click, pyyaml, attrs, pyrsistent, zipp, importlib-metadata, jsonschema, tqdm, jsonpointer, jsonpatch, pyhf\n",
      "\u001b[33m  WARNING: The script jsonschema is installed in '/Users/jmonroy/Library/Python/3.7/bin' which is not on PATH.\n",
      "  Consider adding this directory to PATH or, if you prefer to suppress this warning, use --no-warn-script-location.\u001b[0m\n",
      "\u001b[33m  WARNING: The script tqdm is installed in '/Users/jmonroy/Library/Python/3.7/bin' which is not on PATH.\n",
      "  Consider adding this directory to PATH or, if you prefer to suppress this warning, use --no-warn-script-location.\u001b[0m\n",
      "\u001b[33m  WARNING: The script pyhf is installed in '/Users/jmonroy/Library/Python/3.7/bin' which is not on PATH.\n",
      "  Consider adding this directory to PATH or, if you prefer to suppress this warning, use --no-warn-script-location.\u001b[0m\n",
      "Successfully installed attrs-19.3.0 click-7.1.2 importlib-metadata-1.7.0 jsonpatch-1.26 jsonpointer-2.0 jsonschema-3.2.0 pyhf-0.4.4 pyrsistent-0.16.0 pyyaml-5.3.1 tqdm-4.48.0 zipp-3.1.0\n",
      "Note: you may need to restart the kernel to use updated packages.\n"
     ]
    }
   ],
   "source": [
    "pip install pyhf\n"
   ]
  },
  {
   "cell_type": "code",
   "execution_count": 4,
   "metadata": {},
   "outputs": [
    {
     "name": "stdout",
     "output_type": "stream",
     "text": [
      "Defaulting to user installation because normal site-packages is not writeable\n",
      "Requirement already satisfied: pyhf[xmlio] in /Users/jmonroy/Library/Python/3.7/lib/python/site-packages (0.4.4)\n",
      "Requirement already satisfied: jsonpatch in /Users/jmonroy/Library/Python/3.7/lib/python/site-packages (from pyhf[xmlio]) (1.26)\n",
      "Requirement already satisfied: tqdm in /Users/jmonroy/Library/Python/3.7/lib/python/site-packages (from pyhf[xmlio]) (4.48.0)\n",
      "Requirement already satisfied: pyyaml in /Users/jmonroy/Library/Python/3.7/lib/python/site-packages (from pyhf[xmlio]) (5.3.1)\n",
      "Requirement already satisfied: click>=6.0 in /Users/jmonroy/Library/Python/3.7/lib/python/site-packages (from pyhf[xmlio]) (7.1.2)\n",
      "Requirement already satisfied: jsonschema>=3.2.0 in /Users/jmonroy/Library/Python/3.7/lib/python/site-packages (from pyhf[xmlio]) (3.2.0)\n",
      "Requirement already satisfied: scipy>=1.4.0 in /Users/jmonroy/Library/Python/3.7/lib/python/site-packages (from pyhf[xmlio]) (1.5.0)\n",
      "Collecting uproot; extra == \"xmlio\"\n",
      "  Downloading uproot-3.11.7-py2.py3-none-any.whl (116 kB)\n",
      "\u001b[K     |████████████████████████████████| 116 kB 2.5 MB/s eta 0:00:01\n",
      "\u001b[?25hRequirement already satisfied: jsonpointer>=1.9 in /Users/jmonroy/Library/Python/3.7/lib/python/site-packages (from jsonpatch->pyhf[xmlio]) (2.0)\n",
      "Requirement already satisfied: importlib-metadata; python_version < \"3.8\" in /Users/jmonroy/Library/Python/3.7/lib/python/site-packages (from jsonschema>=3.2.0->pyhf[xmlio]) (1.7.0)\n",
      "Requirement already satisfied: attrs>=17.4.0 in /Users/jmonroy/Library/Python/3.7/lib/python/site-packages (from jsonschema>=3.2.0->pyhf[xmlio]) (19.3.0)\n",
      "Requirement already satisfied: pyrsistent>=0.14.0 in /Users/jmonroy/Library/Python/3.7/lib/python/site-packages (from jsonschema>=3.2.0->pyhf[xmlio]) (0.16.0)\n",
      "Requirement already satisfied: setuptools in /Library/Developer/CommandLineTools/Library/Frameworks/Python3.framework/Versions/3.7/lib/python3.7/site-packages (from jsonschema>=3.2.0->pyhf[xmlio]) (40.8.0)\n",
      "Requirement already satisfied: six>=1.11.0 in /Library/Developer/CommandLineTools/Library/Frameworks/Python3.framework/Versions/3.7/lib/python3.7/site-packages (from jsonschema>=3.2.0->pyhf[xmlio]) (1.12.0)\n",
      "Requirement already satisfied: numpy>=1.14.5 in /Users/jmonroy/Library/Python/3.7/lib/python/site-packages (from scipy>=1.4.0->pyhf[xmlio]) (1.19.0)\n",
      "Collecting cachetools\n",
      "  Downloading cachetools-4.1.1-py3-none-any.whl (10 kB)\n",
      "Collecting uproot-methods>=0.7.0\n",
      "  Downloading uproot_methods-0.7.4-py2.py3-none-any.whl (32 kB)\n",
      "Collecting awkward<1.0,>=0.12.0\n",
      "  Downloading awkward-0.12.22-py2.py3-none-any.whl (87 kB)\n",
      "\u001b[K     |████████████████████████████████| 87 kB 3.8 MB/s eta 0:00:011\n",
      "\u001b[?25hRequirement already satisfied: zipp>=0.5 in /Users/jmonroy/Library/Python/3.7/lib/python/site-packages (from importlib-metadata; python_version < \"3.8\"->jsonschema>=3.2.0->pyhf[xmlio]) (3.1.0)\n",
      "Installing collected packages: cachetools, awkward, uproot-methods, uproot\n",
      "Successfully installed awkward-0.12.22 cachetools-4.1.1 uproot-3.11.7 uproot-methods-0.7.4\n",
      "Note: you may need to restart the kernel to use updated packages.\n"
     ]
    }
   ],
   "source": [
    "pip install pyhf[xmlio]"
   ]
  },
  {
   "cell_type": "code",
   "execution_count": null,
   "metadata": {},
   "outputs": [],
   "source": []
  }
 ],
 "metadata": {
  "kernelspec": {
   "display_name": "Python 3",
   "language": "python",
   "name": "python3"
  },
  "language_info": {
   "codemirror_mode": {
    "name": "ipython",
    "version": 3
   },
   "file_extension": ".py",
   "mimetype": "text/x-python",
   "name": "python",
   "nbconvert_exporter": "python",
   "pygments_lexer": "ipython3",
   "version": "3.7.3"
  }
 },
 "nbformat": 4,
 "nbformat_minor": 4
}
