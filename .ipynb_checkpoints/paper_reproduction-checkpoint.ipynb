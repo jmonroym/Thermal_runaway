{
 "cells": [
  {
   "cell_type": "code",
   "execution_count": 2,
   "metadata": {},
   "outputs": [
    {
     "name": "stdout",
     "output_type": "stream",
     "text": [
      "Qr(T=20C) =  55.52426880000002\n"
     ]
    }
   ],
   "source": [
    "# read the csv files \n",
    "import pandas as pd\n",
    "import sys, os, re, glob\n",
    "import numpy as np\n",
    "\n",
    "from scipy.interpolate import splev, splrep\n",
    "\n",
    "import matplotlib.pyplot as plt\n",
    "import matplotlib as mpl\n",
    "from scipy import stats\n",
    "from matplotlib import pylab\n",
    "\n",
    "#import seaborn as sns\n",
    "\n",
    "import seaborn as sns\n",
    "\n",
    "########----Power function ----------########\n",
    "\n",
    "alpha=4.28*10**-17\n",
    "flu1= 1.0*10**16       #fluence\n",
    "flu2= 2.1*10**16\n",
    "flu3= 3.0*10**16\n",
    "h=4.4                  #width of the sensor\n",
    "l=1.8                  #lenght of the sensor\n",
    "dd=130*10**-4          #depletion depth\n",
    "Vb=600                 #bias voltage\n",
    "Tr=273                  #reference Temperature\n",
    "Ta=7000                #Activation Temperature\n",
    "Qbl=0               #Q baseline from ROC's\n",
    "\n",
    "Qr1=alpha*flu1*h*l*dd*Vb\n",
    "Qr2=alpha*flu2*h*l*dd*Vb\n",
    "Qr3=alpha*flu3*h*l*dd*Vb\n",
    "\n",
    "print('Qr(T=20C) = ',Qr2)\n",
    "\n",
    "Ts=[]\n",
    "Ts_e=[]\n",
    "Q1=[]\n",
    "Q2=[]\n",
    "Q3=[]\n",
    "q1=[]\n",
    "for T in range (248, 283):\n",
    "    Ts.append(T)\n",
    "    Ts_e.append(T - 273)\n",
    "\n",
    "T0=261\n",
    "Rt=3.109\n",
    "for T in Ts:\n",
    "    Q1.append(2*((T/Tr)**2)*np.exp(-Ta*(1/T - 1/Tr))+ Qbl)\n",
    "    Q2.append(4*((T/Tr)**2)*np.exp(-Ta*(1/T - 1/Tr))+ Qbl)\n",
    "    Q3.append(8*((T/Tr)**2)*np.exp(-Ta*(1/T - 1/Tr))+ Qbl)\n",
    "    q1.append((T-T0)/Rt)\n",
    "    \n",
    "#print(Q1,Q2,Q3)\n",
    "\n",
    "Q_T = pd.DataFrame()\n",
    "Q_T['Ts']=Ts\n",
    "Q_T['Ts_e']=Ts_e\n",
    "Q_T['Q1']=Q1\n",
    "Q_T['Q2']=Q2\n",
    "Q_T['Q3']=Q3\n",
    "\n",
    "#Q_T\n",
    "\n",
    "#Qt=Qr3*((253/Tr)**2)*np.exp(-Ta*(1/253 - 1/Tr))\n",
    "#Qt                                                  #expected 1.3 W\n"
   ]
  },
  {
   "cell_type": "code",
   "execution_count": 3,
   "metadata": {},
   "outputs": [
    {
     "data": {
      "image/png": "[encoded data removed]",
      "text/plain": [
       "<Figure size 432x288 with 1 Axes>"
      ]
     },
     "metadata": {
      "needs_background": "light"
     },
     "output_type": "display_data"
    }
   ],
   "source": [
    "#plot Q(T) function\n",
    "\n",
    "fig = plt.figure()\n",
    "ax1 = fig.gca()\n",
    "ax1.set_xticks(np.arange(-30, 30,3 ))\n",
    "ax1.set_yticks(np.arange(-10, 20, 2))\n",
    "ax1.set_ylabel('Q(W)')\n",
    "ax1.set_xlabel('Sensor Temperature(K)')\n",
    "ax1.set_title('Thermal Runaway')\n",
    "\n",
    "#plt.plot(Ts,Q1,'r',Ts,Q2,'b',Ts,Q3,'g')\n",
    "plt.plot(Ts_e,Q1,'b', Ts_e,Q2,'g', Ts_e,Q3,'r', Ts_e,q1,'m--')\n",
    "plt.grid()\n",
    "plt.show()"
   ]
  },
  {
   "cell_type": "code",
   "execution_count": 4,
   "metadata": {},
   "outputs": [
    {
     "data": {
      "text/html": [
       "<div>\n",
       "<style scoped>\n",
       "    .dataframe tbody tr th:only-of-type {\n",
       "        vertical-align: middle;\n",
       "    }\n",
       "\n",
       "    .dataframe tbody tr th {\n",
       "        vertical-align: top;\n",
       "    }\n",
       "\n",
       "    .dataframe thead th {\n",
       "        text-align: right;\n",
       "    }\n",
       "</style>\n",
       "<table border=\"1\" class=\"dataframe\">\n",
       "  <thead>\n",
       "    <tr style=\"text-align: right;\">\n",
       "      <th></th>\n",
       "      <th>qref</th>\n",
       "      <th>Tsref</th>\n",
       "    </tr>\n",
       "  </thead>\n",
       "  <tbody>\n",
       "    <tr>\n",
       "      <th>0</th>\n",
       "      <td>0.000000</td>\n",
       "      <td>-12</td>\n",
       "    </tr>\n",
       "    <tr>\n",
       "      <th>1</th>\n",
       "      <td>1.024787</td>\n",
       "      <td>-11</td>\n",
       "    </tr>\n",
       "    <tr>\n",
       "      <th>2</th>\n",
       "      <td>1.837536</td>\n",
       "      <td>-10</td>\n",
       "    </tr>\n",
       "    <tr>\n",
       "      <th>3</th>\n",
       "      <td>2.473125</td>\n",
       "      <td>-9</td>\n",
       "    </tr>\n",
       "    <tr>\n",
       "      <th>4</th>\n",
       "      <td>2.961056</td>\n",
       "      <td>-8</td>\n",
       "    </tr>\n",
       "    <tr>\n",
       "      <th>5</th>\n",
       "      <td>3.326270</td>\n",
       "      <td>-7</td>\n",
       "    </tr>\n",
       "    <tr>\n",
       "      <th>6</th>\n",
       "      <td>3.589839</td>\n",
       "      <td>-6</td>\n",
       "    </tr>\n",
       "    <tr>\n",
       "      <th>7</th>\n",
       "      <td>3.769551</td>\n",
       "      <td>-5</td>\n",
       "    </tr>\n",
       "    <tr>\n",
       "      <th>8</th>\n",
       "      <td>3.880409</td>\n",
       "      <td>-4</td>\n",
       "    </tr>\n",
       "    <tr>\n",
       "      <th>9</th>\n",
       "      <td>3.935049</td>\n",
       "      <td>-3</td>\n",
       "    </tr>\n",
       "    <tr>\n",
       "      <th>10</th>\n",
       "      <td>3.944107</td>\n",
       "      <td>-2</td>\n",
       "    </tr>\n",
       "    <tr>\n",
       "      <th>11</th>\n",
       "      <td>3.916514</td>\n",
       "      <td>-1</td>\n",
       "    </tr>\n",
       "    <tr>\n",
       "      <th>12</th>\n",
       "      <td>3.859762</td>\n",
       "      <td>0</td>\n",
       "    </tr>\n",
       "    <tr>\n",
       "      <th>13</th>\n",
       "      <td>3.780118</td>\n",
       "      <td>1</td>\n",
       "    </tr>\n",
       "    <tr>\n",
       "      <th>14</th>\n",
       "      <td>3.682815</td>\n",
       "      <td>2</td>\n",
       "    </tr>\n",
       "    <tr>\n",
       "      <th>15</th>\n",
       "      <td>3.572209</td>\n",
       "      <td>3</td>\n",
       "    </tr>\n",
       "    <tr>\n",
       "      <th>16</th>\n",
       "      <td>3.451913</td>\n",
       "      <td>4</td>\n",
       "    </tr>\n",
       "    <tr>\n",
       "      <th>17</th>\n",
       "      <td>3.324915</td>\n",
       "      <td>5</td>\n",
       "    </tr>\n",
       "    <tr>\n",
       "      <th>18</th>\n",
       "      <td>3.193670</td>\n",
       "      <td>6</td>\n",
       "    </tr>\n",
       "    <tr>\n",
       "      <th>19</th>\n",
       "      <td>3.060189</td>\n",
       "      <td>7</td>\n",
       "    </tr>\n",
       "    <tr>\n",
       "      <th>20</th>\n",
       "      <td>2.926104</td>\n",
       "      <td>8</td>\n",
       "    </tr>\n",
       "    <tr>\n",
       "      <th>21</th>\n",
       "      <td>2.792732</td>\n",
       "      <td>9</td>\n",
       "    </tr>\n",
       "  </tbody>\n",
       "</table>\n",
       "</div>"
      ],
      "text/plain": [
       "        qref  Tsref\n",
       "0   0.000000    -12\n",
       "1   1.024787    -11\n",
       "2   1.837536    -10\n",
       "3   2.473125     -9\n",
       "4   2.961056     -8\n",
       "5   3.326270     -7\n",
       "6   3.589839     -6\n",
       "7   3.769551     -5\n",
       "8   3.880409     -4\n",
       "9   3.935049     -3\n",
       "10  3.944107     -2\n",
       "11  3.916514     -1\n",
       "12  3.859762      0\n",
       "13  3.780118      1\n",
       "14  3.682815      2\n",
       "15  3.572209      3\n",
       "16  3.451913      4\n",
       "17  3.324915      5\n",
       "18  3.193670      6\n",
       "19  3.060189      7\n",
       "20  2.926104      8\n",
       "21  2.792732      9"
      ]
     },
     "execution_count": 4,
     "metadata": {},
     "output_type": "execute_result"
    }
   ],
   "source": [
    "qref=[]\n",
    "Tsref=[]\n",
    "for T in Ts:\n",
    "    if T>(T0-1):\n",
    "        qref.append(((T-T0)/Rt)*((Tr/T)**2)*np.exp(Ta*(1/T - 1/Tr)))\n",
    "        Tsref.append(T-273)\n",
    "\n",
    "df_qref=pd.DataFrame()\n",
    "df_qref['qref']=qref\n",
    "df_qref['Tsref']=Tsref\n",
    "df_qref"
   ]
  },
  {
   "cell_type": "code",
   "execution_count": 5,
   "metadata": {},
   "outputs": [
    {
     "data": {
      "image/png": "[encoded data removed]",
      "text/plain": [
       "<Figure size 432x288 with 1 Axes>"
      ]
     },
     "metadata": {
      "needs_background": "light"
     },
     "output_type": "display_data"
    }
   ],
   "source": [
    "#plot Qref(T) function\n",
    "\n",
    "fig3 = plt.figure()\n",
    "ax3 = fig3.gca()\n",
    "ax3.set_xticks(np.arange(0, 5, 0.4 ))\n",
    "ax3.set_yticks(np.arange(-15, 15, 2))\n",
    "ax3.set_ylabel('Ts(C)')\n",
    "ax3.set_xlabel('qref at 0 C')\n",
    "ax3.set_title('Thermal Runaway')\n",
    "\n",
    "#plt.plot(Ts,Q1,'r',Ts,Q2,'b',Ts,Q3,'g')\n",
    "plt.plot(qref,Tsref,'b')\n",
    "plt.grid()\n",
    "plt.show()"
   ]
  },
  {
   "cell_type": "code",
   "execution_count": 11,
   "metadata": {},
   "outputs": [
    {
     "data": {
      "text/plain": [
       "(270.73157142857144, 261)"
      ]
     },
     "execution_count": 11,
     "metadata": {},
     "output_type": "execute_result"
    }
   ],
   "source": [
    "Tscrit=T0+ T0**2/Ta\n",
    "Tscrit,T0\n"
   ]
  },
  {
   "cell_type": "code",
   "execution_count": 10,
   "metadata": {},
   "outputs": [
    {
     "data": {
      "text/plain": [
       "260.95882692614697"
      ]
     },
     "execution_count": 10,
     "metadata": {},
     "output_type": "execute_result"
    }
   ],
   "source": [
    "T0c= Tscrit -Tscrit**2/(Ta+500)\n",
    "T0c"
   ]
  },
  {
   "cell_type": "code",
   "execution_count": null,
   "metadata": {},
   "outputs": [],
   "source": []
  }
 ],
 "metadata": {
  "kernelspec": {
   "display_name": "Python 3",
   "language": "python",
   "name": "python3"
  },
  "language_info": {
   "codemirror_mode": {
    "name": "ipython",
    "version": 3
   },
   "file_extension": ".py",
   "mimetype": "text/x-python",
   "name": "python",
   "nbconvert_exporter": "python",
   "pygments_lexer": "ipython3",
   "version": "3.7.3"
  }
 },
 "nbformat": 4,
 "nbformat_minor": 4
}
