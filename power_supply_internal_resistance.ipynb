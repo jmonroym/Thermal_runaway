{
 "cells": [
  {
   "cell_type": "code",
   "execution_count": null,
   "metadata": {},
   "outputs": [],
   "source": [
    "# read the csv files \n",
    "import pandas as pd\n",
    "import sys, os, re, glob\n",
    "import numpy as np\n",
    "\n",
    "from scipy.interpolate import splev, splrep\n",
    "\n",
    "import matplotlib.pyplot as plt\n",
    "import matplotlib as mpl\n",
    "from scipy import stats\n",
    "from matplotlib import pylab\n",
    "\n",
    "#import seaborn as sns\n",
    "\n",
    "import seaborn as sns\n",
    "\n",
    "sns.set(style=\"ticks\")\n",
    "sns.set_context(\"poster\")\n",
    "\n",
    "dataset = pd.read_csv(\"data_irps.csv\",sep=\",\", index_col=None) # read info from csv file\n",
    "\n",
    "resistance = pd.DataFrame() # create the data frame \n",
    "resistance = dataset\n",
    "\n",
    "resistance\n",
    "V_m=resistance.Vm # Voltages from DMV (digital multmeter)\n",
    "I_m=resistance.Im # Currents from DMV (digital multmeter)\n",
    "\n",
    "V_s=resistance.Vs # Voltages from source \n",
    "I_s=resistance.Is # Currents from source \n",
    "\n",
    "V_m,I_m,V_s,I_s\n",
    "\n",
    "V_i=V_s-V_m  # Voltage drop due to source internal resistance \n",
    "resistance['Vi']=V_i\n",
    "\n",
    "resistance"
   ]
  },
  {
   "cell_type": "code",
   "execution_count": null,
   "metadata": {},
   "outputs": [],
   "source": [
    "# Generated linear fit\n",
    "slope, intercept, r_value, p_value, std_err = stats.linregress(I_m,V_m)\n",
    "\n",
    "# use line_kws to set line label for legend\n",
    "ax = sns.regplot(x=\"Im\", y=\"Vm\", data=resistance, color='b',marker=\".\", \n",
    " line_kws={\"linewidth\": 1.5,'label':\"Vm={0:.2f}Im+{1:.2f}\".format(slope,intercept)})\n",
    "\n",
    "pylab.title('M005 Electrical Resistance',fontsize=15)\n",
    "# plot legend\n",
    "ax.legend()\n",
    "plt.show()\n",
    " #slope and std_err are the Mock module resistance and its error\n",
    "print \"M005 Resistance: %.2f +/- %.2f Ohms\" %(slope,std_err) \n"
   ]
  },
  {
   "cell_type": "code",
   "execution_count": null,
   "metadata": {},
   "outputs": [],
   "source": [
    "# Generated linear fit\n",
    "slope, intercept, r_value, p_value, std_err = stats.linregress(I_s,V_i)\n",
    "\n",
    "# use line_kws to set line label for legend\n",
    "ax2 = sns.regplot(x=\"Is\", y=\"Vi\", data=resistance, color='b',marker=\".\", \n",
    " line_kws={\"linewidth\": 1.5,'label':\"Vi={0:.2f}Is+{1:.2f}\".format(slope,intercept)})\n",
    "\n",
    "pylab.title('TDK internal resistance',fontsize=15)\n",
    "# plot legend\n",
    "ax2.legend()\n",
    "plt.show()\n",
    " #slope and std_err are the source internal resistance and its error\n",
    "print \"TDK Z+ Internal Resistance: %.2f +/- %.2f Ohms\" %(slope,std_err)  "
   ]
  },
  {
   "cell_type": "code",
   "execution_count": null,
   "metadata": {
    "scrolled": true
   },
   "outputs": [],
   "source": [
    "\n",
    "plt.plot(resistance.Im, resistance.Vm, lw=0.5, label='DMV',color='black', linestyle='dashed')\n",
    "plt.plot(resistance.Is, resistance.Vs, lw=0.5, label='Source',color='green', linestyle='solid')\n",
    "\n"
   ]
  },
  {
   "cell_type": "code",
   "execution_count": null,
   "metadata": {},
   "outputs": [],
   "source": [
    "# Save to pdf/png\n",
    "outfile = os.path.join(outdir, os.path.splitext(os.path.basename(inputfile))[0])\n",
    "plt.savefig(\"%s.pdf\"%outfile, bbox_inches='tight')\n",
    "plt.savefig(\"%s.png\"%outfile, bbox_inches='tight', dpi=300)\n",
    "print \"...saved plots in %s.pdf/.png\" % outfile\n"
   ]
  },
  {
   "cell_type": "code",
   "execution_count": null,
   "metadata": {},
   "outputs": [],
   "source": [
    "89*89"
   ]
  },
  {
   "cell_type": "code",
   "execution_count": null,
   "metadata": {},
   "outputs": [],
   "source": [
    "x=89*89\n",
    "print x"
   ]
  },
  {
   "cell_type": "code",
   "execution_count": null,
   "metadata": {},
   "outputs": [],
   "source": []
  }
 ],
 "metadata": {
  "kernelspec": {
   "display_name": "Python 2",
   "language": "python",
   "name": "python2"
  },
  "language_info": {
   "codemirror_mode": {
    "name": "ipython",
    "version": 3
   },
   "file_extension": ".py",
   "mimetype": "text/x-python",
   "name": "python",
   "nbconvert_exporter": "python",
   "pygments_lexer": "ipython3",
   "version": "3.7.6"
  }
 },
 "nbformat": 4,
 "nbformat_minor": 2
}
